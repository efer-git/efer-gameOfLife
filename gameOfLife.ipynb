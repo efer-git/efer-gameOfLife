{
 "cells": [
  {
   "cell_type": "code",
   "execution_count": null,
   "metadata": {},
   "outputs": [],
   "source": []
  },
  {
   "cell_type": "code",
   "execution_count": 271,
   "metadata": {},
   "outputs": [
    {
     "name": "stdout",
     "output_type": "stream",
     "text": [
      "[[0, 0, 0, 0, 0], [0, 0, 0, 0, 0], [0, 1, 1, 1, 0], [0, 0, 1, 0, 0], [0, 0, 0, 0, 0]]\n"
     ]
    }
   ],
   "source": []
  },
  {
   "cell_type": "code",
   "execution_count": null,
   "metadata": {},
   "outputs": [],
   "source": []
  },
  {
   "cell_type": "code",
   "execution_count": 863,
   "metadata": {},
   "outputs": [],
   "source": [
    "class cells:\n",
    "    def __init__(self,x,y,cellType):\n",
    "        self.x = x\n",
    "        self.y = y\n",
    "        self.cellType = cellType # integer --> should be mapping table 0-->DEAD\n",
    "        \n",
    "class fields:\n",
    "    def __init__(self,matrix):\n",
    "        self.x_size = len(matrix)\n",
    "        self.y_size = len(matrix[0])\n",
    "        tmp = []\n",
    "        mat = []\n",
    "        print('initialize empty field {} x {} '.format(len(matrix),len(matrix[0])))\n",
    "        for i in range(self.x_size):\n",
    "            tmpx = []\n",
    "            matx = []\n",
    "            for j in range(self.y_size):\n",
    "                tmpx.append(cells(i,j,0))\n",
    "                matx.append(0)\n",
    "            tmp.append(tmpx)\n",
    "            mat.append(matx)\n",
    "                \n",
    "        self.field = tmp\n",
    "        self.matrix = mat\n",
    "        \n",
    "    \n",
    "    def set_field(self,matrix):\n",
    "        tmp = []\n",
    "        for i in range(self.x_size):\n",
    "            tmpx = []\n",
    "            for j in range(self.y_size):\n",
    "                tmpx.append(cells(i,j,matrix[i][j]))\n",
    "            tmp.append(tmpx)\n",
    "                \n",
    "        self.field = tmp\n",
    "        self.matrix = matrix\n",
    "\n",
    "    def get_matrix(self):  \n",
    "        return self.matrix\n",
    "    \n",
    "    def render(self):\n",
    "        cellTypeMap={0:'█',1:'A',2: \"B\",3:'C',4:'D',5:'E'}\n",
    "        for i in range(self.x_size):\n",
    "            rowa = ''\n",
    "            for j in range(self.y_size):\n",
    "                rowa = rowa+cellTypeMap[self.field[i][j].cellType]\n",
    "        \n",
    "            print('{}\\r'.format(rowa))\n",
    "            \n",
    "    def changeStatus(self):\n",
    "        \n",
    "        # depends on geomatry of map..\n",
    "        # in this case --> sphere\n",
    "        \n",
    "        matrix = self.matrix\n",
    "        new_matrix = []\n",
    "        for i in range(self.x_size):\n",
    "            new_row = []\n",
    "            for j in range(self.y_size):\n",
    "                # count neighbor cell for 3x3 cell\n",
    "                cnt = count3x3(i,j,matrix)\n",
    "                #print(cnt)\n",
    "                if cnt<2:\n",
    "                    # die\n",
    "                    self.field[i][j].cellType=0\n",
    "                    new_row.append(0)\n",
    "                elif cnt>3:\n",
    "                    # die\n",
    "                    self.field[i][j].cellType=0\n",
    "                    new_row.append(0)\n",
    "                else:\n",
    "                    self.field[i][j].cellType=1\n",
    "                    new_row.append(1)\n",
    "                    \n",
    "            new_matrix.append(new_row)\n",
    "            self.matrix = new_matrix\n",
    "            #set_field(new_matrix)\n",
    "            \n",
    "            \n",
    "    def changeStatusV2(self):\n",
    "        matrix = self.matrix\n",
    "        new_matrix = []\n",
    "        for i in range(self.x_size):\n",
    "            new_row = []\n",
    "            for j in range(self.y_size):\n",
    "                #print(\"i,j : {},{}\".format(i,j))\n",
    "                # state-priority\n",
    "                # ( can be changed by game setting )\n",
    "                # 1. breathing\n",
    "                # 2. rps\n",
    "                ccnt = count3x3_detail(i,j,matrix,rps)\n",
    "                cnt = sum(ccnt[1:])\n",
    "                if cnt<2:\n",
    "                    # die\n",
    "                    self.field[i][j].cellType=0\n",
    "                    new_row.append(0)\n",
    "                elif cnt>3:\n",
    "                    # die\n",
    "                    self.field[i][j].cellType=0\n",
    "                    new_row.append(0)\n",
    "                else:\n",
    "                    # do rps\n",
    "                    \n",
    "                    # tie \n",
    "                    #   - random ! \n",
    "                    #   - no-change\n",
    "                    # else \n",
    "                    #   - rcs > count !\n",
    "                    #    argmax(ccnt[1:])+1 # since 0 --> dead\n",
    "                   \n",
    "                    xa = np.dot(np.array(rps),np.array(ccnt[1:]).transpose())\n",
    "                    xa_elem = list(np.where(np.array(ccnt[1:])>0)[0])\n",
    "                    if len(xa_elem)==1:\n",
    "                        self.field[i][j].cellType = xa_elem[0]+1\n",
    "                        new_row.append(xa_elem[0]+1)\n",
    "                    elif np.all(xa[xa_elem]==0):\n",
    "                        # pure tie...\n",
    "                        #print('tie')\n",
    "                        np.where(np.array(ccnt[1:])>0)\n",
    "                        self.field[i][j].cellType = int(np.random.randint(1,len(xa_elem))+1)\n",
    "                        new_row.append(int(np.random.randint(1,len(xa_elem)))+1)\n",
    "                    else:\n",
    "                        # more priority\n",
    "                        self.field[i][j].cellType = int(np.argmax(xa))+1\n",
    "                        new_row.append(int(np.argmax(xa))+1)\n",
    "\n",
    "            new_matrix.append(new_row)\n",
    "            self.matrix = new_matrix\n",
    "            #set_field(new_matrix)\n",
    "\n",
    "                    \n",
    "                #rowa = rowa+cellTypeMap[self.field[i][j].cellType]\n",
    "\n",
    "def count3x3(x,y,matrix):\n",
    "    summa = 0\n",
    "    x_size = len(matrix)\n",
    "    y_size = len(matrix[0])\n",
    "    for i in range(-1,2):\n",
    "        for j in range(-1,2):\n",
    "            if matrix[(x+i)%x_size][(y+j)%y_size]==0:\n",
    "                plus = 0\n",
    "            else:\n",
    "                plus = 1\n",
    "            #plus = matrix[(x+i)%x_size][(y+j)%y_size]/matrix[(x+i)%x_size][(y+j)%y_size]\n",
    "            summa += plus\n",
    "\n",
    "    return summa - matrix[x][y]\n",
    "        \n",
    "    \n",
    "    \n",
    "def count3x3_detail(x,y,matrix,rps):\n",
    "    summa = [0]*(len(rps)+1)\n",
    "    x_size = len(matrix)\n",
    "    y_size = len(matrix[0])\n",
    "    for i in range(-1,2):\n",
    "        for j in range(-1,2):\n",
    "            #summa += matrix[(x+i)%x_size][(y+j)%y_size]\n",
    "            summa[matrix[(x+i)%x_size][(y+j)%y_size]] = summa[matrix[(x+i)%x_size][(y+j)%y_size]]+1\n",
    "    \n",
    "    summa[matrix[x][y]] = summa[matrix[x][y]]-1 #removing itself\n",
    "    return summa\n",
    "            \n",
    "            \n",
    "\n",
    "def rpsGenerate(n):\n",
    "    # make seed [0,-1,1,-1,....]\n",
    "    # this works \n",
    "    # n --> odd\n",
    "    # n --> even : not accurate\n",
    "    \n",
    "    rps = []\n",
    "    seeda = [0]\n",
    "    for i in range(1,n):\n",
    "        seeda.append((-1)**i)\n",
    "    \n",
    "    rps.append(seeda)\n",
    "    A = seeda\n",
    "    for i in range(1,n):\n",
    "        A = [A[-1]]+A[:-1]\n",
    "        rps.append(A)\n",
    "        \n",
    "    return rps        \n",
    "        \n",
    "def rps_process(x,y,rps=rps):\n",
    "    # 0 : draw\n",
    "    # 1 : x wins y\n",
    "    # -1 : y wins x\n",
    "    return rps[x][y]\n",
    "\n",
    "\n",
    "\n",
    "        "
   ]
  },
  {
   "cell_type": "code",
   "execution_count": 875,
   "metadata": {},
   "outputs": [
    {
     "name": "stdout",
     "output_type": "stream",
     "text": [
      "[[0, -1, 1], [1, 0, -1], [-1, 1, 0]]\n",
      "[[0, 0, 0, 0, 0], [0, 0, 0, 0, 0], [0, 1, 2, 3, 0], [0, 0, 0, 0, 0], [0, 0, 0, 0, 0]]\n",
      "initialize empty field 5 x 5 \n",
      "{0, 1}\n",
      "2\n",
      "█████\r\n",
      "█████\r\n",
      "█ABC█\r\n",
      "█████\r\n",
      "█████\r\n"
     ]
    }
   ],
   "source": [
    "#print(matrix[3][4])\n",
    "import numpy as np\n",
    "\n",
    "#matrix = [[0,0,0,0,0],[0,0,0,0,0],[0,1,1,3,0],[0,0,2,0,0],[0,0,0,0,0]]\n",
    "\n",
    "N = 3\n",
    "W = 10\n",
    "#p = [0.5,0.1,0.1,0.1,0.1,0.1]\n",
    "p = [0.7,0.1,0.1,0.1]\n",
    "\n",
    "rps = rpsGenerate(N)\n",
    "print(rps)\n",
    "matrix = [[0,0,0,0,0],[0,0,0,0,0],[0,1,2,3,0],[0,0,0,0,0],[0,0,0,0,0]]\n",
    "#matrix = [[0,0,0,0,0],[0,0,0,0,0],[0,1,1,1,0],[0,0,1,0,0],[0,0,0,0,0]]\n",
    "#matrix = np.random.randint(2, size=(100, 100))\n",
    "#matrix = np.random.choice(N+1,W*W,p=p).reshape(W,W)\n",
    "print(matrix)\n",
    "#rps = [[0,-1,1],[1,0,-1],[-1,1,0]]\n",
    "FF = fields(matrix)\n",
    "FF.set_field(matrix)\n",
    "\n",
    "#cnt = count3x3(2,2,matrix)\n",
    "#ccnt = count3x3_detail(1,3,matrix,rps)\n",
    "\n",
    "\n",
    "\n",
    "#print(rps)\n",
    "#np.all()\n",
    "#print((ccnt[1:]===1).astype(int))\n",
    "\n",
    "\n",
    "print(set(ccnt[1:]))\n",
    "print(len(set(ccnt[1:])))\n",
    "#print(np.argmax(cnt_arr[1:])) # argmax itself cannot catch tie-case\n",
    "#print('#cells {}'.format(Counter(list(np.array(FF.get_matrix()).reshape(1,100))[0])))\n",
    "FF.render()"
   ]
  },
  {
   "cell_type": "code",
   "execution_count": 874,
   "metadata": {},
   "outputs": [
    {
     "name": "stdout",
     "output_type": "stream",
     "text": [
      "[6, 0, 1, 1]\n",
      "2\n",
      "[ 0 -1  1] [1, 2]\n",
      "prior\n",
      "3\n",
      "█████\r\n",
      "█████\r\n",
      "█████\r\n",
      "█████\r\n",
      "█████\r\n"
     ]
    }
   ],
   "source": [
    "ccnt = count3x3_detail(1,3,matrix,rps)\n",
    "cnt = sum(ccnt[1:])\n",
    "print(ccnt)\n",
    "print(cnt)\n",
    "\n",
    "xa = np.dot(np.array(rps),np.array(ccnt[1:]).transpose())\n",
    "xa_elem = list(np.where(np.array(ccnt[1:])>0)[0])\n",
    "\n",
    "print(xa,xa_elem)\n",
    "\n",
    "\n",
    "\n",
    "if len(xa_elem)==1:\n",
    "    print('single')\n",
    "    #self.field[i][j].cellType = xa_elem[0]+1\n",
    "    #new_row.append(xa_elem[0]+1)\n",
    "elif np.all(xa[xa_elem]==0):\n",
    "    # pure tie...\n",
    "    print('tie')\n",
    "    np.where(np.array(ccnt[1:])>0)\n",
    "    #self.field[i][j].cellType = int(np.random.randint(1,len(xa_elem))+1)\n",
    "    #new_row.append(int(np.random.randint(1,len(xa_elem)))+1)\n",
    "else:\n",
    "    # more priority\n",
    "    print('prior')\n",
    "    print(int(np.argmax(xa))+1)\n",
    "    #self.field[i][j].cellType = int(np.argmax(xa[xa_elem]))+1\n",
    "    #new_row.append(int(np.argmax(xa[xa_elem]))+1)\n",
    "\n",
    "FF.changeStatusV2()\n",
    "FF.render()"
   ]
  },
  {
   "cell_type": "code",
   "execution_count": 844,
   "metadata": {},
   "outputs": [
    {
     "data": {
      "text/plain": [
       "-1"
      ]
     },
     "execution_count": 844,
     "metadata": {},
     "output_type": "execute_result"
    }
   ],
   "source": [
    "rps[0][1]"
   ]
  },
  {
   "cell_type": "code",
   "execution_count": 876,
   "metadata": {},
   "outputs": [
    {
     "name": "stdout",
     "output_type": "stream",
     "text": [
      "epoch 0\n"
     ]
    },
    {
     "ename": "ValueError",
     "evalue": "cannot reshape array of size 25 into shape (1,100)",
     "output_type": "error",
     "traceback": [
      "\u001b[0;31m---------------------------------------------------------------------------\u001b[0m",
      "\u001b[0;31mValueError\u001b[0m                                Traceback (most recent call last)",
      "\u001b[0;32m<ipython-input-876-56f8e8f4481b>\u001b[0m in \u001b[0;36m<module>\u001b[0;34m\u001b[0m\n\u001b[1;32m      4\u001b[0m \u001b[0;32mfor\u001b[0m \u001b[0mi\u001b[0m \u001b[0;32min\u001b[0m \u001b[0mrange\u001b[0m\u001b[0;34m(\u001b[0m\u001b[0;36m1000\u001b[0m\u001b[0;34m)\u001b[0m\u001b[0;34m:\u001b[0m\u001b[0;34m\u001b[0m\u001b[0m\n\u001b[1;32m      5\u001b[0m     \u001b[0mprint\u001b[0m\u001b[0;34m(\u001b[0m\u001b[0;34m'epoch {}'\u001b[0m\u001b[0;34m.\u001b[0m\u001b[0mformat\u001b[0m\u001b[0;34m(\u001b[0m\u001b[0mi\u001b[0m\u001b[0;34m)\u001b[0m\u001b[0;34m)\u001b[0m\u001b[0;34m\u001b[0m\u001b[0m\n\u001b[0;32m----> 6\u001b[0;31m     \u001b[0mprint\u001b[0m\u001b[0;34m(\u001b[0m\u001b[0;34m'#cells {}'\u001b[0m\u001b[0;34m.\u001b[0m\u001b[0mformat\u001b[0m\u001b[0;34m(\u001b[0m\u001b[0mCounter\u001b[0m\u001b[0;34m(\u001b[0m\u001b[0mlist\u001b[0m\u001b[0;34m(\u001b[0m\u001b[0mnp\u001b[0m\u001b[0;34m.\u001b[0m\u001b[0marray\u001b[0m\u001b[0;34m(\u001b[0m\u001b[0mFF\u001b[0m\u001b[0;34m.\u001b[0m\u001b[0mget_matrix\u001b[0m\u001b[0;34m(\u001b[0m\u001b[0;34m)\u001b[0m\u001b[0;34m)\u001b[0m\u001b[0;34m.\u001b[0m\u001b[0mreshape\u001b[0m\u001b[0;34m(\u001b[0m\u001b[0;36m1\u001b[0m\u001b[0;34m,\u001b[0m\u001b[0;36m100\u001b[0m\u001b[0;34m)\u001b[0m\u001b[0;34m)\u001b[0m\u001b[0;34m[\u001b[0m\u001b[0;36m0\u001b[0m\u001b[0;34m]\u001b[0m\u001b[0;34m)\u001b[0m\u001b[0;34m)\u001b[0m\u001b[0;34m)\u001b[0m\u001b[0;34m\u001b[0m\u001b[0m\n\u001b[0m\u001b[1;32m      7\u001b[0m     \u001b[0mFF\u001b[0m\u001b[0;34m.\u001b[0m\u001b[0mrender\u001b[0m\u001b[0;34m(\u001b[0m\u001b[0;34m)\u001b[0m\u001b[0;34m\u001b[0m\u001b[0m\n\u001b[1;32m      8\u001b[0m     \u001b[0;32mif\u001b[0m \u001b[0mnp\u001b[0m\u001b[0;34m.\u001b[0m\u001b[0msum\u001b[0m\u001b[0;34m(\u001b[0m\u001b[0mFF\u001b[0m\u001b[0;34m.\u001b[0m\u001b[0mget_matrix\u001b[0m\u001b[0;34m(\u001b[0m\u001b[0;34m)\u001b[0m\u001b[0;34m)\u001b[0m\u001b[0;34m==\u001b[0m\u001b[0;36m0\u001b[0m\u001b[0;34m:\u001b[0m\u001b[0;34m\u001b[0m\u001b[0m\n",
      "\u001b[0;31mValueError\u001b[0m: cannot reshape array of size 25 into shape (1,100)"
     ]
    }
   ],
   "source": [
    "from IPython.display import clear_output\n",
    "from collections import Counter\n",
    "import time\n",
    "for i in range(1000):\n",
    "    print('epoch {}'.format(i))\n",
    "    print('#cells {}'.format(Counter(list(np.array(FF.get_matrix()).reshape(1,100))[0])))\n",
    "    FF.render()\n",
    "    if np.sum(FF.get_matrix())==0:\n",
    "        print('no cells')\n",
    "        break\n",
    "    else:\n",
    "        time.sleep(1)\n",
    "        \n",
    "    FF.changeStatusV2()\n",
    "    #FF.changeStatus()\n",
    "    clear_output()\n",
    "\n",
    "\n",
    "\n",
    "    "
   ]
  },
  {
   "cell_type": "code",
   "execution_count": 163,
   "metadata": {},
   "outputs": [
    {
     "data": {
      "text/plain": [
       "0"
      ]
     },
     "execution_count": 163,
     "metadata": {},
     "output_type": "execute_result"
    }
   ],
   "source": [
    "np.sum(FF.get_matrix())"
   ]
  },
  {
   "cell_type": "code",
   "execution_count": 609,
   "metadata": {},
   "outputs": [
    {
     "ename": "TypeError",
     "evalue": "unsupported operand type(s) for /: 'list' and 'list'",
     "output_type": "error",
     "traceback": [
      "\u001b[0;31m---------------------------------------------------------------------------\u001b[0m",
      "\u001b[0;31mTypeError\u001b[0m                                 Traceback (most recent call last)",
      "\u001b[0;32m<ipython-input-609-fa5017d3d6e0>\u001b[0m in \u001b[0;36m<module>\u001b[0;34m\u001b[0m\n\u001b[1;32m      1\u001b[0m \u001b[0mmatrix\u001b[0m \u001b[0;34m=\u001b[0m \u001b[0;34m[\u001b[0m\u001b[0;34m[\u001b[0m\u001b[0;36m0\u001b[0m\u001b[0;34m,\u001b[0m\u001b[0;36m0\u001b[0m\u001b[0;34m,\u001b[0m\u001b[0;36m0\u001b[0m\u001b[0;34m,\u001b[0m\u001b[0;36m0\u001b[0m\u001b[0;34m,\u001b[0m\u001b[0;36m0\u001b[0m\u001b[0;34m]\u001b[0m\u001b[0;34m,\u001b[0m\u001b[0;34m[\u001b[0m\u001b[0;36m0\u001b[0m\u001b[0;34m,\u001b[0m\u001b[0;36m0\u001b[0m\u001b[0;34m,\u001b[0m\u001b[0;36m0\u001b[0m\u001b[0;34m,\u001b[0m\u001b[0;36m0\u001b[0m\u001b[0;34m,\u001b[0m\u001b[0;36m0\u001b[0m\u001b[0;34m]\u001b[0m\u001b[0;34m,\u001b[0m\u001b[0;34m[\u001b[0m\u001b[0;36m0\u001b[0m\u001b[0;34m,\u001b[0m\u001b[0;36m1\u001b[0m\u001b[0;34m,\u001b[0m\u001b[0;36m1\u001b[0m\u001b[0;34m,\u001b[0m\u001b[0;36m3\u001b[0m\u001b[0;34m,\u001b[0m\u001b[0;36m0\u001b[0m\u001b[0;34m]\u001b[0m\u001b[0;34m,\u001b[0m\u001b[0;34m[\u001b[0m\u001b[0;36m0\u001b[0m\u001b[0;34m,\u001b[0m\u001b[0;36m0\u001b[0m\u001b[0;34m,\u001b[0m\u001b[0;36m2\u001b[0m\u001b[0;34m,\u001b[0m\u001b[0;36m0\u001b[0m\u001b[0;34m,\u001b[0m\u001b[0;36m0\u001b[0m\u001b[0;34m]\u001b[0m\u001b[0;34m,\u001b[0m\u001b[0;34m[\u001b[0m\u001b[0;36m0\u001b[0m\u001b[0;34m,\u001b[0m\u001b[0;36m0\u001b[0m\u001b[0;34m,\u001b[0m\u001b[0;36m0\u001b[0m\u001b[0;34m,\u001b[0m\u001b[0;36m0\u001b[0m\u001b[0;34m,\u001b[0m\u001b[0;36m0\u001b[0m\u001b[0;34m]\u001b[0m\u001b[0;34m]\u001b[0m\u001b[0;34m\u001b[0m\u001b[0m\n\u001b[0;32m----> 2\u001b[0;31m \u001b[0mmatrix\u001b[0m\u001b[0;34m/\u001b[0m\u001b[0mmatrix\u001b[0m\u001b[0;34m\u001b[0m\u001b[0m\n\u001b[0m",
      "\u001b[0;31mTypeError\u001b[0m: unsupported operand type(s) for /: 'list' and 'list'"
     ]
    }
   ],
   "source": [
    "matrix = [[0,0,0,0,0],[0,0,0,0,0],[0,1,1,3,0],[0,0,2,0,0],[0,0,0,0,0]]\n"
   ]
  },
  {
   "cell_type": "code",
   "execution_count": 511,
   "metadata": {},
   "outputs": [
    {
     "data": {
      "text/plain": [
       "2"
      ]
     },
     "execution_count": 511,
     "metadata": {},
     "output_type": "execute_result"
    }
   ],
   "source": [
    "np.random.randint(1,5)"
   ]
  },
  {
   "cell_type": "code",
   "execution_count": null,
   "metadata": {},
   "outputs": [],
   "source": []
  },
  {
   "cell_type": "code",
   "execution_count": null,
   "metadata": {},
   "outputs": [],
   "source": []
  },
  {
   "cell_type": "code",
   "execution_count": null,
   "metadata": {},
   "outputs": [],
   "source": []
  },
  {
   "cell_type": "code",
   "execution_count": null,
   "metadata": {},
   "outputs": [],
   "source": []
  },
  {
   "cell_type": "code",
   "execution_count": null,
   "metadata": {},
   "outputs": [],
   "source": []
  },
  {
   "cell_type": "code",
   "execution_count": null,
   "metadata": {},
   "outputs": [],
   "source": []
  },
  {
   "cell_type": "code",
   "execution_count": null,
   "metadata": {},
   "outputs": [],
   "source": []
  }
 ],
 "metadata": {
  "kernelspec": {
   "display_name": "Python 3",
   "language": "python",
   "name": "python3"
  },
  "language_info": {
   "codemirror_mode": {
    "name": "ipython",
    "version": 3
   },
   "file_extension": ".py",
   "mimetype": "text/x-python",
   "name": "python",
   "nbconvert_exporter": "python",
   "pygments_lexer": "ipython3",
   "version": "3.6.4"
  }
 },
 "nbformat": 4,
 "nbformat_minor": 2
}
